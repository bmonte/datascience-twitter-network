{
  "nbformat": 4,
  "nbformat_minor": 0,
  "metadata": {
    "kernelspec": {
      "display_name": "Python 3",
      "language": "python",
      "name": "python3"
    },
    "language_info": {
      "codemirror_mode": {
        "name": "ipython",
        "version": 3
      },
      "file_extension": ".py",
      "mimetype": "text/x-python",
      "name": "python",
      "nbconvert_exporter": "python",
      "pygments_lexer": "ipython3",
      "version": "3.6.5"
    },
    "colab": {
      "name": "data_science_retweets.ipynb",
      "provenance": [],
      "collapsed_sections": [
        "Kf2kIJxiZX9k",
        "j9MqfvGta3vB",
        "bfRbfgUVvS2D",
        "DO33luYRpcIb",
        "sf4b1Jh_vS2F",
        "tvv-4mc9vS2F",
        "fd1_TCcfryPE",
        "-Xae28h1vS2H",
        "E6kCRyxHvS2H",
        "lVFp47K1sMtp",
        "HeopeYu0sb5f",
        "Uf3jf8_gvS2I",
        "Pi0V0v_4vS2I"
      ],
      "toc_visible": true
    }
  },
  "cells": [
    {
      "cell_type": "markdown",
      "metadata": {
        "id": "4mYKsQ3OLkC5"
      },
      "source": [
        "# Data Science como assunto no Twitter"
      ]
    },
    {
      "cell_type": "markdown",
      "metadata": {
        "id": "csMiES6fLnxa"
      },
      "source": [
        "O Twitter possui mais de 1,3 bilhões de usuários, sendo cerca de 46% dos usuários ativos diários. Por este motivo, este canal de comunicação pode ser usado como fonte de atualizações sobre os mais diversos temas.\n",
        "\n",
        "No intuito de fomentar um ambiente de informações sobre Ciência de Dados, usamos o Twitter para analisar e tentar descobrir os usuários produtores de conteúdo. Além disso, entender um pouco as redes de informação sobre o assunto. Para isso aplicamos alguns processos de coleta, tratamento e análise de dados a partir de redes complexas."
      ]
    },
    {
      "cell_type": "markdown",
      "metadata": {
        "id": "8cV1FIQdMK5O"
      },
      "source": [
        "## Coletando Dados"
      ]
    },
    {
      "cell_type": "markdown",
      "metadata": {
        "id": "GYNCbfGUMOU2"
      },
      "source": [
        "Os dados utilizados para análise são referentes a tweets coletados no dia 14/09/2021. Só foram selecionados aqueles que retweetaram publicações feitas com a hashtag “DataScience” (#DataScience). O arquivo com esses tweets encontra-se na pasta raíz deste diretório sob nome retweets.csv.\n",
        "\n",
        "O processo de acesso da APi do Twitter para formar o CSV foi feito utilizando uma versão alterada do repositório: https://github.com/mmartiniano/tweet-tracker. A versão alterada está na pasta tweet-tracker."
      ]
    },
    {
      "cell_type": "markdown",
      "metadata": {
        "id": "iojm6qGJNhZk"
      },
      "source": [
        "## Construindo uma rede direcionada"
      ]
    },
    {
      "cell_type": "markdown",
      "metadata": {
        "id": "M6XwUc2UPZRU"
      },
      "source": [
        "Após coletarmos mais de 5.000 tweets, construiremos uma rede de conexões baseadas em tweets e retweets."
      ]
    },
    {
      "cell_type": "code",
      "metadata": {
        "id": "-8lk3E6uQkSA"
      },
      "source": [
        "import pandas as pd"
      ],
      "execution_count": 67,
      "outputs": []
    },
    {
      "cell_type": "code",
      "metadata": {
        "id": "L0qMYQ_EQkSA"
      },
      "source": [
        "retweets = pd.read_csv('retweets.csv')\n",
        "retweets.columns = ('id', 'datetime', 'user_location', 'text', 'retweeted', 'retweeter', 'hashtags', 'mentions')"
      ],
      "execution_count": 69,
      "outputs": []
    },
    {
      "cell_type": "code",
      "metadata": {
        "colab": {
          "base_uri": "https://localhost:8080/",
          "height": 496
        },
        "id": "wLXXIhh8QkSA",
        "outputId": "af303014-3be1-4f6d-8ab0-0d214d79f985"
      },
      "source": [
        "retweets.head()"
      ],
      "execution_count": 70,
      "outputs": [
        {
          "output_type": "execute_result",
          "data": {
            "text/html": [
              "<div>\n",
              "<style scoped>\n",
              "    .dataframe tbody tr th:only-of-type {\n",
              "        vertical-align: middle;\n",
              "    }\n",
              "\n",
              "    .dataframe tbody tr th {\n",
              "        vertical-align: top;\n",
              "    }\n",
              "\n",
              "    .dataframe thead th {\n",
              "        text-align: right;\n",
              "    }\n",
              "</style>\n",
              "<table border=\"1\" class=\"dataframe\">\n",
              "  <thead>\n",
              "    <tr style=\"text-align: right;\">\n",
              "      <th></th>\n",
              "      <th>id</th>\n",
              "      <th>datetime</th>\n",
              "      <th>user_location</th>\n",
              "      <th>text</th>\n",
              "      <th>retweeted</th>\n",
              "      <th>retweeter</th>\n",
              "      <th>hashtags</th>\n",
              "      <th>mentions</th>\n",
              "    </tr>\n",
              "  </thead>\n",
              "  <tbody>\n",
              "    <tr>\n",
              "      <th>0</th>\n",
              "      <td>1437780263036129288</td>\n",
              "      <td>2021-09-14 14:08:22</td>\n",
              "      <td>Earth</td>\n",
              "      <td>RT @IainLJBrown: Artificial Intelligence Has C...</td>\n",
              "      <td>IainLJBrown</td>\n",
              "      <td>_100DaysOfCode</td>\n",
              "      <td>ArtificialIntelligence</td>\n",
              "      <td>IainLJBrown</td>\n",
              "    </tr>\n",
              "    <tr>\n",
              "      <th>1</th>\n",
              "      <td>1437780267821895685</td>\n",
              "      <td>2021-09-14 14:08:23</td>\n",
              "      <td>Jammu And Kashmir</td>\n",
              "      <td>RT @IainLJBrown: Artificial Intelligence Has C...</td>\n",
              "      <td>IainLJBrown</td>\n",
              "      <td>Bills_Bot</td>\n",
              "      <td>ArtificialIntelligence</td>\n",
              "      <td>IainLJBrown</td>\n",
              "    </tr>\n",
              "    <tr>\n",
              "      <th>2</th>\n",
              "      <td>1437780287262543880</td>\n",
              "      <td>2021-09-14 14:08:27</td>\n",
              "      <td>Germany</td>\n",
              "      <td>RT @IainLJBrown: Artificial Intelligence Has C...</td>\n",
              "      <td>IainLJBrown</td>\n",
              "      <td>hubofml</td>\n",
              "      <td>ArtificialIntelligence</td>\n",
              "      <td>IainLJBrown</td>\n",
              "    </tr>\n",
              "    <tr>\n",
              "      <th>3</th>\n",
              "      <td>1437780287719620608</td>\n",
              "      <td>2021-09-14 14:08:27</td>\n",
              "      <td>England, United Kingdom</td>\n",
              "      <td>RT @NikseamC: Business Solution  @NikseamC\\n#F...</td>\n",
              "      <td>NikseamC</td>\n",
              "      <td>CarrieH3nry</td>\n",
              "      <td>FrontEndDeveloper DEVCommunity cybersecurity A...</td>\n",
              "      <td>NikseamC NikseamC</td>\n",
              "    </tr>\n",
              "    <tr>\n",
              "      <th>4</th>\n",
              "      <td>1437780311241379849</td>\n",
              "      <td>2021-09-14 14:08:33</td>\n",
              "      <td>NaN</td>\n",
              "      <td>RT @NikseamC: Business Solution  @NikseamC\\n#F...</td>\n",
              "      <td>NikseamC</td>\n",
              "      <td>iPythonistaBot</td>\n",
              "      <td>FrontEndDeveloper DEVCommunity cybersecurity A...</td>\n",
              "      <td>NikseamC NikseamC</td>\n",
              "    </tr>\n",
              "  </tbody>\n",
              "</table>\n",
              "</div>"
            ],
            "text/plain": [
              "                    id  ...           mentions\n",
              "0  1437780263036129288  ...        IainLJBrown\n",
              "1  1437780267821895685  ...        IainLJBrown\n",
              "2  1437780287262543880  ...        IainLJBrown\n",
              "3  1437780287719620608  ...  NikseamC NikseamC\n",
              "4  1437780311241379849  ...  NikseamC NikseamC\n",
              "\n",
              "[5 rows x 8 columns]"
            ]
          },
          "metadata": {},
          "execution_count": 70
        }
      ]
    },
    {
      "cell_type": "code",
      "metadata": {
        "colab": {
          "base_uri": "https://localhost:8080/"
        },
        "id": "CRY1WijDQkSB",
        "outputId": "73a70d66-0a32-49f5-e2e8-4c22c1f53b2a"
      },
      "source": [
        "retweets.shape"
      ],
      "execution_count": 71,
      "outputs": [
        {
          "output_type": "execute_result",
          "data": {
            "text/plain": [
              "(5993, 8)"
            ]
          },
          "metadata": {},
          "execution_count": 71
        }
      ]
    },
    {
      "cell_type": "markdown",
      "metadata": {
        "id": "nZBBeVvsQkSB"
      },
      "source": [
        "\n",
        "Na rede a ser formada os nós são usuários do Twitter e as conexões representam retweets, seguindo a direção do fluxo de informação: Tweet Original -> Retweet. Assim, dois usuários são ligados caso algum deles tenha feito o compartilhamento da publicação do outro, portanto as conexões possuem uma direção definida que caracteriza a rede formada como direcionada."
      ]
    },
    {
      "cell_type": "code",
      "metadata": {
        "id": "hMiWDgzoQkSC"
      },
      "source": [
        "import networkx as nx"
      ],
      "execution_count": 72,
      "outputs": []
    },
    {
      "cell_type": "code",
      "metadata": {
        "id": "A_PUB0MRQkSC"
      },
      "source": [
        "D = nx.DiGraph()\n",
        "\n",
        "for row in retweets.itertuples(index=False):\n",
        "  if D.has_edge(row.retweeted, row.retweeter):\n",
        "    D.edges[row.retweeted, row.retweeter]['weight'] += 1\n",
        "  else:\n",
        "    D.add_edge(row.retweeted, row.retweeter, weight=1)"
      ],
      "execution_count": 73,
      "outputs": []
    },
    {
      "cell_type": "markdown",
      "metadata": {
        "id": "0WdZUpH4RiBD"
      },
      "source": [
        "## Analisando a rede construída"
      ]
    },
    {
      "cell_type": "markdown",
      "metadata": {
        "id": "YEbetNz9RwVv"
      },
      "source": [
        "No contexto de redes complexas ou grafos, chamados de grau a quantidade de ligações de um determinado nó. Em redes direcionadas, o grau pode ser dividido em dois agrupamentos: o número de conexões que saem do nó (Grau de Saída) e quantidade de conexões que apontam para o nó (Grau de Entrada).\n",
        "\n",
        "Essas e outras informações são cruciais para conseguirmos identificar os nós mais importantes da rede analisada. Porém precisamos levar em conta todo o contexto em que a rede está aplicada para determinar qual atributo dos nós é mais condizente com a realidade e representa uma relevância mais fiel.\n",
        "\n",
        "Como as ligações seguem a direção do fluxo de informação, o grau de saída representa a quantidade de usuários que retuitaram um determinado nó. Assim utilizamos essa métrica para verificar quais usuários foram mais compartilhados por uma quantidade distinta de pessoas."
      ]
    },
    {
      "cell_type": "code",
      "metadata": {
        "colab": {
          "base_uri": "https://localhost:8080/"
        },
        "id": "sqjkUUYVTCe4",
        "outputId": "86106da1-a20f-4abc-afff-dd6e4ce005ce"
      },
      "source": [
        "from operator import itemgetter\n",
        "\n",
        "sorted(D.out_degree(), key=itemgetter(1), reverse=True)[:5]"
      ],
      "execution_count": 74,
      "outputs": [
        {
          "output_type": "execute_result",
          "data": {
            "text/plain": [
              "[('gp_pulipaka', 78),\n",
              " ('PrUkkera', 65),\n",
              " ('Khulood_Almani', 54),\n",
              " ('IainLJBrown', 53),\n",
              " ('Eli_Krumova', 50)]"
            ]
          },
          "metadata": {},
          "execution_count": 74
        }
      ]
    },
    {
      "cell_type": "markdown",
      "metadata": {
        "id": "JGSIt_SxTW9Z"
      },
      "source": [
        "Usuário que foi retweetado por um número maior de pessoas: https://twitter.com/gp_pulipaka"
      ]
    },
    {
      "cell_type": "markdown",
      "metadata": {
        "id": "WAlBgkmaS9I7"
      },
      "source": [
        "Seguindo este processo, não levamos em conta a quantidade de vezes que um usuário compartilhou tweets de outro, para isso, usamos o grau de saída ponderado. Enquanto a métrica anterior informava sobre a quantidade de usuários “alcançados”, essa é mais sensível a quantidade de vezes que um mesmo usuário retweetou o outro."
      ]
    },
    {
      "cell_type": "code",
      "metadata": {
        "colab": {
          "base_uri": "https://localhost:8080/"
        },
        "id": "NHemWyBMTQfh",
        "outputId": "f7f9ac70-dfc8-46f8-e997-1f81e92b2478"
      },
      "source": [
        "sorted(D.out_degree(weight='weight'), key=itemgetter(1), reverse=True)[:5]"
      ],
      "execution_count": 75,
      "outputs": [
        {
          "output_type": "execute_result",
          "data": {
            "text/plain": [
              "[('SajjadA12488597', 275),\n",
              " ('IainLJBrown', 184),\n",
              " ('gp_pulipaka', 165),\n",
              " ('NikseamC', 140),\n",
              " ('bluejak3', 140)]"
            ]
          },
          "metadata": {},
          "execution_count": 75
        }
      ]
    },
    {
      "cell_type": "markdown",
      "metadata": {
        "id": "ZFSfAXlETiAA"
      },
      "source": [
        "Usuário mais retweetado: https://twitter.com/SajjadA12488597"
      ]
    },
    {
      "cell_type": "markdown",
      "metadata": {
        "id": "2gIdNrgUSP6J"
      },
      "source": [
        "### Qual métrica usar?"
      ]
    },
    {
      "cell_type": "markdown",
      "metadata": {
        "id": "amPsRBshSOI-"
      },
      "source": [
        "No Twitter é comum a prática do uso de bots, segundo dados da plataforma cerca de 15% do seu público ativo não são seres humanos. Isso nos fez questionar sobre qual métrica nos entregaria resultados mais fieis com o proposto em nossa análise.\n",
        "\n",
        "Sabendo dessa informação procuramos analisar os dados coletados para detectar possíveis anomalias na nossa rede. Um fenômeno comum em redes sociais são contas que criam poucos conteúdos originais e, no caso do Twitter, ficam apenas retuitando o conteúdo de outras contas."
      ]
    },
    {
      "cell_type": "markdown",
      "metadata": {
        "id": "eENyz0mgT0ZJ"
      },
      "source": [
        "Para concretizar esse pensamento desenhamos um histograma formado pela distribuição pelos valores de grau de entrada (Retuites feitos) por cada nó da rede."
      ]
    },
    {
      "cell_type": "code",
      "metadata": {
        "colab": {
          "base_uri": "https://localhost:8080/",
          "height": 265
        },
        "id": "h2XNbVboSfz8",
        "outputId": "f8cb4657-f9a4-426c-9807-466e96d1fed6"
      },
      "source": [
        "import matplotlib.pyplot as plt\n",
        "\n",
        "plt.hist(dict(D.in_degree(weight='weight')).values())\n",
        "plt.show()"
      ],
      "execution_count": 76,
      "outputs": [
        {
          "output_type": "display_data",
          "data": {
            "image/png": "[encoded data removed]",
            "text/plain": [
              "<Figure size 432x288 with 1 Axes>"
            ]
          },
          "metadata": {
            "needs_background": "light"
          }
        }
      ]
    },
    {
      "cell_type": "markdown",
      "metadata": {
        "id": "Ru-5qriWT39N"
      },
      "source": [
        "Analisando o gráfico mostrado, conseguimos perceber que a quantidade comum de compartilhamentos por nó é menor do que 50. Um pequeno grupo de usuários ficou concentrado entre 100 ~ 200 retweets, esse comportamento nos chamou a atenção e foi classificado como anomalia dentro da rede, provavelmente causada por bots."
      ]
    },
    {
      "cell_type": "code",
      "metadata": {
        "colab": {
          "base_uri": "https://localhost:8080/"
        },
        "id": "2MCzNyRmT_jD",
        "outputId": "618fbe7a-cca0-4d7f-9af0-48af464ed8ac"
      },
      "source": [
        "sorted(D.in_degree(weight='weight'), key=itemgetter(1), reverse=True)[:10]"
      ],
      "execution_count": 77,
      "outputs": [
        {
          "output_type": "execute_result",
          "data": {
            "text/plain": [
              "[('iPythonistaBot', 207),\n",
              " ('AzuerBot', 189),\n",
              " ('AdvanceML', 188),\n",
              " ('CoderRetweet', 164),\n",
              " ('team_backend', 163),\n",
              " ('100DaysOf2020', 154),\n",
              " ('hubofml', 150),\n",
              " ('elizabot9', 149),\n",
              " ('DeveloperBot_v1', 142),\n",
              " ('CodeWithTwitchi', 139)]"
            ]
          },
          "metadata": {},
          "execution_count": 77
        }
      ]
    },
    {
      "cell_type": "markdown",
      "metadata": {
        "id": "pPwCvI_2UC2B"
      },
      "source": [
        "Das contas listadas acima, todas são atualizadas por processos automáticos ou bots."
      ]
    },
    {
      "cell_type": "markdown",
      "metadata": {
        "id": "I5txahzgqsF1"
      },
      "source": [
        "\n",
        "### Tratando Anomalias\n"
      ]
    },
    {
      "cell_type": "code",
      "metadata": {
        "colab": {
          "base_uri": "https://localhost:8080/"
        },
        "id": "BbTqV4vEoYMP",
        "outputId": "0dc84b33-e7f0-4383-b306-6e2cc31ac63b"
      },
      "source": [
        "core = [node for node, deg in dict(D.in_degree(weight='weight')).items() if deg <= 50]\n",
        "\n",
        "dsub = nx.subgraph(D, core)\n",
        "\n",
        "print(\"{} nodes, {} edges\".format(len(dsub), nx.number_of_edges(dsub)))\n",
        "\n",
        "nx.write_graphml(dsub, \"retweet_sub.graphml\")"
      ],
      "execution_count": 78,
      "outputs": [
        {
          "output_type": "stream",
          "name": "stdout",
          "text": [
            "1243 nodes, 1988 edges\n"
          ]
        }
      ]
    },
    {
      "cell_type": "code",
      "metadata": {
        "colab": {
          "base_uri": "https://localhost:8080/"
        },
        "id": "S4sAHJhurs_3",
        "outputId": "286eece4-6b4c-4523-b337-292b786e73b7"
      },
      "source": [
        "sorted(dsub.out_degree(), key=itemgetter(1), reverse=True)[:5]"
      ],
      "execution_count": 79,
      "outputs": [
        {
          "output_type": "execute_result",
          "data": {
            "text/plain": [
              "[('gp_pulipaka', 60),\n",
              " ('PrUkkera', 44),\n",
              " ('Khulood_Almani', 35),\n",
              " ('IainLJBrown', 34),\n",
              " ('sayalook', 32)]"
            ]
          },
          "metadata": {},
          "execution_count": 79
        }
      ]
    },
    {
      "cell_type": "code",
      "metadata": {
        "colab": {
          "base_uri": "https://localhost:8080/"
        },
        "id": "Mdx49bUbsFq6",
        "outputId": "0af1ea56-271f-44d7-834c-c3e3a9acc254"
      },
      "source": [
        "sorted(dsub.out_degree(weight='weight'), key=itemgetter(1), reverse=True)[:5]"
      ],
      "execution_count": 56,
      "outputs": [
        {
          "output_type": "execute_result",
          "data": {
            "text/plain": [
              "[('gp_pulipaka', 89),\n",
              " ('akbarth3great', 86),\n",
              " ('bluejak3', 75),\n",
              " ('SajjadA12488597', 66),\n",
              " ('IainLJBrown', 64)]"
            ]
          },
          "metadata": {},
          "execution_count": 56
        }
      ]
    },
    {
      "cell_type": "code",
      "metadata": {
        "id": "H6cxucBKxv0k"
      },
      "source": [
        "dsubnl = dsub.copy()"
      ],
      "execution_count": 57,
      "outputs": []
    },
    {
      "cell_type": "code",
      "metadata": {
        "id": "-30IdRnRx6y6"
      },
      "source": [
        "dsubnl.remove_edges_from(nx.selfloop_edges(dsubnl))"
      ],
      "execution_count": 58,
      "outputs": []
    },
    {
      "cell_type": "code",
      "metadata": {
        "colab": {
          "base_uri": "https://localhost:8080/",
          "height": 35
        },
        "id": "aCaIikWgyFiR",
        "outputId": "5b578a81-f6fe-4128-e88b-c83e0a6fb954"
      },
      "source": [
        "max(dsub.nodes, key=dsub.out_degree)"
      ],
      "execution_count": 59,
      "outputs": [
        {
          "output_type": "execute_result",
          "data": {
            "application/vnd.google.colaboratory.intrinsic+json": {
              "type": "string"
            },
            "text/plain": [
              "'gp_pulipaka'"
            ]
          },
          "metadata": {},
          "execution_count": 59
        }
      ]
    },
    {
      "cell_type": "code",
      "metadata": {
        "colab": {
          "base_uri": "https://localhost:8080/"
        },
        "id": "uLrIvGWQyHvi",
        "outputId": "c104daea-6232-47a3-9b9e-db473dbb8306"
      },
      "source": [
        "sorted(dsub.out_degree(), key=itemgetter(1), reverse=True)[:5]"
      ],
      "execution_count": 60,
      "outputs": [
        {
          "output_type": "execute_result",
          "data": {
            "text/plain": [
              "[('gp_pulipaka', 60),\n",
              " ('PrUkkera', 44),\n",
              " ('Khulood_Almani', 35),\n",
              " ('IainLJBrown', 34),\n",
              " ('sayalook', 32)]"
            ]
          },
          "metadata": {},
          "execution_count": 60
        }
      ]
    },
    {
      "cell_type": "code",
      "metadata": {
        "colab": {
          "base_uri": "https://localhost:8080/"
        },
        "id": "J14GfCRfyOwa",
        "outputId": "0eafcb69-1c7d-4a48-cec3-cec93a360d11"
      },
      "source": [
        "sorted(dsub.out_degree(weight='weight'), key=itemgetter(1), reverse=True)[:5]"
      ],
      "execution_count": 61,
      "outputs": [
        {
          "output_type": "execute_result",
          "data": {
            "text/plain": [
              "[('gp_pulipaka', 89),\n",
              " ('akbarth3great', 86),\n",
              " ('bluejak3', 75),\n",
              " ('SajjadA12488597', 66),\n",
              " ('IainLJBrown', 64)]"
            ]
          },
          "metadata": {},
          "execution_count": 61
        }
      ]
    },
    {
      "cell_type": "code",
      "metadata": {
        "id": "yvOj7IimSev-"
      },
      "source": [
        "nx.write_graphml(D, 'retweets.graphml')"
      ],
      "execution_count": 22,
      "outputs": []
    }
  ]
}